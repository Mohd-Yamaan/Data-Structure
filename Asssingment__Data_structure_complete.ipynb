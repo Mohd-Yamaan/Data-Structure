{
  "nbformat": 4,
  "nbformat_minor": 0,
  "metadata": {
    "colab": {
      "provenance": []
    },
    "kernelspec": {
      "name": "python3",
      "display_name": "Python 3"
    },
    "language_info": {
      "name": "python"
    }
  },
  "cells": [
    {
      "cell_type": "markdown",
      "source": [
        "# Theoretical Questions"
      ],
      "metadata": {
        "id": "OWt0pL9l0lx9"
      }
    },
    {
      "cell_type": "markdown",
      "source": [
        "1. what are data structures, and why are they important?\n",
        "\n",
        "Answer -- Data structure are ways to store and organize dat efficiency. They are important because they allow for efficientdata retrieval, modification adn managment, which is crucial for software development and optimization."
      ],
      "metadata": {
        "id": "rEsMHixR0s-L"
      }
    },
    {
      "cell_type": "markdown",
      "source": [
        "2. Explain the difference between mutalbe and immutable data types with example.\n",
        "\n",
        "Answer -- Mutable data types can be modified after creation, such as list and dicitionaries.\n",
        "immutable data type cannot be changed once created,like tuple and string\n",
        "\n",
        "Example: i\n",
        "List are mutable you can add , remove or change  element. my list [1,2], my_list[0] == 5 .\n",
        "String and tuples are immutable- you cannot change them once they are defined : my_str = \"hello\" cannot not be altered directly"
      ],
      "metadata": {
        "id": "--qDXwyc1f1U"
      }
    },
    {
      "cell_type": "markdown",
      "source": [
        "3. What are the main difference between list and tuple in python?\n",
        "\n",
        "Answer -- list are mutable (can be modified), while tuples are immutable.\n",
        "\n",
        "list are define using square bracket[],\n",
        "\n",
        "and tuples use parentheses ().\n"
      ],
      "metadata": {
        "id": "7pX7e6H82FqE"
      }
    },
    {
      "cell_type": "markdown",
      "source": [
        "4. Describe how dictonaries store data.\n",
        "\n",
        "Answer -- Dictonaries store data in key_ value pairs , where each unique key maps  to a value. they are implemented using hash tables internally.allowing fast data access. For example my_dict = {\"name\": \"Jhon\", \"age\": 35} stores data with key like \"name\" and \"age\" .Key must be immutable types(e.g., string , number,tuples), and value can be of any data type"
      ],
      "metadata": {
        "id": "YhQeCxfU3L4T"
      }
    },
    {
      "cell_type": "markdown",
      "source": [
        "5. Why might you use a set insted of a list in python?\n",
        "\n",
        "Answer -- Sets are used when you need to store unique value without duplicates. Unlike list, sets automactally eliminate repeted elements. For example, set ([ 1, 2, 2, 3]) because { 1,2,3}. Set also allow for faster memnership check (x in set) due tohash-based implemetation. They are useful for mathmetical operation like union, intersection, and difference. However, sets are unordered ad so not support indexing . whendata uniqueness and fast lookuo are priorities, sets are prefered over lits."
      ],
      "metadata": {
        "id": "OM-lSbPV4alM"
      }
    },
    {
      "cell_type": "markdown",
      "source": [
        "6. What is the string in python, and how is it differet from a list?\n",
        "\n",
        "Answer -- A string in python is an immutable sequencece of character, enclosein single or double quotes, like \"hello\". List on the other hand, are mutable  and can contain elements of different data types, including strings, numbers, or even other lists. You can modify a list's element, but yuo cannot change individual characters in a string.  For example, you cna do my_list[0] == 5 , but my_str[0] == 'h' will raise an error . String are commonly used for text , while lists are for general collection of items\n"
      ],
      "metadata": {
        "id": "Euvl7XNd7iXE"
      }
    },
    {
      "cell_type": "markdown",
      "source": [
        "7. How do tuples ensure data integrity in Python?\n",
        "\n",
        "Answer -- Tuple are immutabe, meaning ones they are created, their elements cannot be changed. This ensure that data stored in tuples remains constant throughout the program, which helps maintain data intrigity. For example,a tuple representation GPS coordination should not be altered after assingment. This makes tupe ideal for fixed data collections.Because of thei immutable, tuples can also be used as keys in dictonaries. their consistency and safty makes them useful in application where data must remain unchanged."
      ],
      "metadata": {
        "id": "xwcrvl9H-2K8"
      }
    },
    {
      "cell_type": "markdown",
      "source": [
        "8. what is a hash table , and how does it relate to dictonaries in python?\n",
        "\n",
        "Answer -- A hash table is a data structure that maps keys to values using a hash function. In Python, dictonaries are implemented using hash tables. When you stroe a key-value pair in a dictonaries , the key is hased to find an index in the internal storage, allowing fast acces to its value This makes lookups in dictonaries very efficent, with averge time complexity of o(1). Since hash table required immutable keys, dictonary keys must be types like string or numbers.\n",
        "\n"
      ],
      "metadata": {
        "id": "1zBx1mZjBG9n"
      }
    },
    {
      "cell_type": "markdown",
      "source": [
        "9. Can list contain  different type data types im python\n",
        "\n",
        "Answer -- Yes, Python lists are flexible and can contain element of different data types. For example, a list caninclude integers, strings, floats and even other lists: [9, \"python\", 6.79, [7,2]]. this makes them varsatile for storing mixed data."
      ],
      "metadata": {
        "id": "GIDcpjBwDfZn"
      }
    },
    {
      "cell_type": "markdown",
      "source": [
        "10. Explain why string are immutable in python.\n",
        "\n",
        "Answere -- String in python are immutable, meaning their characters cannotnot be change after the string is created. This desing improved performance and memory optimization because pytho can safely reuse strings. it also help aviod unitended side sffect when passing string between fuctions\n",
        "For example , tring to modify a character in \"hello\" directely will raise an error instend you must created a new string. Immutablity also makes string hashable, so they can be use as keys in dictonaries and elements in s"
      ],
      "metadata": {
        "id": "p4quakY0Fdmh"
      }
    },
    {
      "cell_type": "markdown",
      "source": [
        "11. what advantage do dictionaries offer over lists for certain tasks?\n",
        "\n",
        "Answer -- Dictonaaries provide faster acess to data  key, making lookups much more efficent (O(1) on average). They are ideal when data needs to be associated with unique identifiers, such as student names and their mark. Unlike lists, dictonaries dont't require searching through element to find a match. They also allow for btter data organization using key-value pairs For example accessing stuent[ \"name\" ] is faster and mor emeaningful tha  using and index in a list. This structure supports flexiblities and readable code."
      ],
      "metadata": {
        "id": "OgQlel5AVMcu"
      }
    },
    {
      "cell_type": "markdown",
      "source": [
        "12. Describe a scenario whre a tuple would be preferable over list.\n",
        "\n",
        "Answer -- A tuple is preferable when a data should not be change throughout the program. For Exmple storig days of the week (\"Monday\", \"Tuesday\", ......\"Sunday\") ina tuple ensures that the sequence remains constant . Tuples also use less memory and are slightly faster than lists. since thy are immutable they can be used as keys i dictionaries ,unlike lists. Tuples enhance data safty and prevent accidental modifications. this makes them suitable for fixed collection of items."
      ],
      "metadata": {
        "id": "iP7Yo2ohWuK1"
      }
    },
    {
      "cell_type": "markdown",
      "source": [
        "13. How do set handle duplicate value in python?\n",
        "\n",
        "Answer -- Sets automatically elimate duplicate values when they are created or update For instance set([ 1, 2, 3, 4, 5, ]) becomes {1, 2, 3, 4, 5}. this feature makes sets useful for filtering duplicates from data. Sets use hash based storage, so each element must be unique and hashable. When you add an element that already exist it won't be added again. This behaviour simlifies task like ensuring data uuniqueness and preforming operations like union or intersection of data set"
      ],
      "metadata": {
        "id": "6TEhECUsYHNe"
      }
    },
    {
      "cell_type": "markdown",
      "source": [
        "14. How does the “in” keyword work differently for lists and dictionaries?\n",
        "\n",
        "**Answer** - The in keyword in Python is used to check if a particular element exists within a collection, but it behaves differently depending on the data type. When used with a list, in checks whether a specific value is present in the list. For example, if you have a list of fruits, using 'apple' in fruits would return True if 'apple' is one of the list elements. On the other hand, when used with a dictionary, in checks for the presence of a key, not a value. So, if you have a dictionary like {'name': 'Alice', 'age': 30}, using 'name' in person would return True because 'name' is a key, while 'Alice' in person would return False because 'Alice' is a value, not a key. If you want to check for a value in a dictionary, you need to use in with dict.values() like 'Alice' in person.values(). Thus, while the in keyword provides a simple way to test membership, it is important to understand whether it checks keys or values depending on the data type involved.\n",
        "\n",
        "\n",
        "\n",
        "\n",
        "\n",
        "\n",
        "\n",
        "\n"
      ],
      "metadata": {
        "id": "b1naB4PI8D0c"
      }
    },
    {
      "cell_type": "code",
      "source": [
        "print(\"Example of lsit\")\n",
        "fruits = ['apple', 'banana', 'cherry']\n",
        "\n",
        "print('banana' in fruits)\n",
        "print('grape' in fruits)\n",
        "\n",
        "print(\"Example of dictonary\")\n",
        "person = {'name': 'Alice', 'age': 30}\n",
        "\n",
        "print('name' in person)\n",
        "print('Alice' in person)\n"
      ],
      "metadata": {
        "colab": {
          "base_uri": "https://localhost:8080/"
        },
        "id": "xRNbafdBhjXb",
        "outputId": "90ebb267-f4f4-40b1-db6c-d7173c8cdcd8"
      },
      "execution_count": null,
      "outputs": [
        {
          "output_type": "stream",
          "name": "stdout",
          "text": [
            "Example of lsit\n",
            "True\n",
            "False\n",
            "Example of dictonary\n",
            "True\n",
            "False\n"
          ]
        }
      ]
    },
    {
      "cell_type": "markdown",
      "source": [
        "15. Can you modify the elements of a tuple? Explain why or why not.\n",
        "\n",
        "**Answer** - Tuples are implemented to be immutable objects in Python. This immutability ensures the integrity of the data and allows tuples to be hashable, which is important when using tuples as dictionary keys or set elements. Because of this, trying to assign a new value to a tuple’s element raises an error.\n",
        "\n"
      ],
      "metadata": {
        "id": "Qo9CGVCe8KrU"
      }
    },
    {
      "cell_type": "markdown",
      "source": [
        "16. What is a nested dictionary, and give an example of its use case?"
      ],
      "metadata": {
        "id": "dwu8ks-T8gW6"
      }
    },
    {
      "cell_type": "markdown",
      "source": [
        "17. Describe the time complexity of accessing elements in a dictionary."
      ],
      "metadata": {
        "id": "79s1su5W8jDE"
      }
    },
    {
      "cell_type": "markdown",
      "source": [
        "18. In what situations are lists preferred over dictionaries?"
      ],
      "metadata": {
        "id": "bAuSDbsJ8pn0"
      }
    },
    {
      "cell_type": "markdown",
      "source": [
        "19. Why are dictionaries considered unordered, and how does that affect data retrieval?\n",
        "\n",
        "**Answer** -- Dictionaries are called unordered because the items inside don’t have a fixed order like a list. This means when you look at the items, they might not appear in the same order you added them (especially in older Python versions).\n",
        "\n",
        "Because of this, you can’t get a value by its position like you do with lists. Instead, you always get values by using their keys — like looking up a word in a dictionary, you use the word itself, not its page number.\n",
        "\n",
        "In newer Python versions (3.7 and later), dictionaries remember the order you added items, but you still get values by keys, not by their position.\n",
        "\n",
        "So, the main point is: dictionaries store data by keys, not by order, and that’s how you retrieve data from them.\n",
        "\n",
        "\n",
        "\n",
        "\n",
        "\n",
        "\n",
        "\n",
        "\n"
      ],
      "metadata": {
        "id": "VC0YDAcJ8uzT"
      }
    },
    {
      "cell_type": "markdown",
      "source": [
        "20. Explain the difference between a list and a dictionary in terms of data retrieval.\n",
        "\n",
        "**Answer** --  the difference between a list and a dictionary in term of data retrival\n",
        "\n",
        "List: You retrieve data by its position (called an index). For example, the first item is at position 0, the second at position 1, and so on. You use numbers to get items, like my_list[2].\n",
        "\n",
        "Dictionary: You retrieve data by its key (a unique name or label). Instead of numbers, you use keys to get values, like my_dict['name']."
      ],
      "metadata": {
        "id": "om8B0rhw80R7"
      }
    },
    {
      "cell_type": "markdown",
      "source": [
        "# practical Question"
      ],
      "metadata": {
        "id": "XUtxEc3_Zlsf"
      }
    },
    {
      "cell_type": "markdown",
      "source": [
        "1. write a code to create a string with your name and print it"
      ],
      "metadata": {
        "id": "aH-EFrLd-Ora"
      }
    },
    {
      "cell_type": "code",
      "source": [
        "Name = (\"Mohd Yamaan Rafe\")\n",
        "print(\"My Name is: \",Name)"
      ],
      "metadata": {
        "colab": {
          "base_uri": "https://localhost:8080/"
        },
        "id": "IDHtnNAp-VgK",
        "outputId": "197274a2-d348-44a6-dd45-d9633bd06f65"
      },
      "execution_count": null,
      "outputs": [
        {
          "output_type": "stream",
          "name": "stdout",
          "text": [
            "My Name is:  Mohd Yamaan Rafe\n"
          ]
        }
      ]
    },
    {
      "cell_type": "markdown",
      "source": [
        "2. Write a code to find the lengh of the string \"Hello Word\""
      ],
      "metadata": {
        "id": "-Rgpbje8-2f6"
      }
    },
    {
      "cell_type": "code",
      "source": [
        "str = (\"Hello Word \")\n",
        "len(str)"
      ],
      "metadata": {
        "colab": {
          "base_uri": "https://localhost:8080/"
        },
        "id": "kOb4zCsM-uY6",
        "outputId": "abb35ce6-5be6-471b-a696-6352907c8ba9"
      },
      "execution_count": null,
      "outputs": [
        {
          "output_type": "execute_result",
          "data": {
            "text/plain": [
              "11"
            ]
          },
          "metadata": {},
          "execution_count": 3
        }
      ]
    },
    {
      "cell_type": "markdown",
      "source": [
        "3. Write a code to slice the first 3 character from the string \"Python Programing\""
      ],
      "metadata": {
        "id": "A5ADIzcX-93N"
      }
    },
    {
      "cell_type": "code",
      "source": [
        "word = \"Python Programing\"\n",
        "slice = word[0:3]\n",
        "print(slice)"
      ],
      "metadata": {
        "colab": {
          "base_uri": "https://localhost:8080/"
        },
        "id": "A4sv62w1_Lk8",
        "outputId": "57264422-5f38-40fb-f1b7-88c2aa63c879"
      },
      "execution_count": null,
      "outputs": [
        {
          "output_type": "stream",
          "name": "stdout",
          "text": [
            "Pyt\n"
          ]
        }
      ]
    },
    {
      "cell_type": "markdown",
      "source": [
        "4.write a code to convert the string \"hello\"to uppercase\n"
      ],
      "metadata": {
        "id": "rlLRB3h6_XYa"
      }
    },
    {
      "cell_type": "code",
      "source": [
        "str=\"hello\"\n",
        "str.upper()"
      ],
      "metadata": {
        "colab": {
          "base_uri": "https://localhost:8080/",
          "height": 35
        },
        "id": "W05GpcKn_uiK",
        "outputId": "5404f55f-3544-497b-9f51-5c3ffab03fee"
      },
      "execution_count": null,
      "outputs": [
        {
          "output_type": "execute_result",
          "data": {
            "text/plain": [
              "'HELLO'"
            ],
            "application/vnd.google.colaboratory.intrinsic+json": {
              "type": "string"
            }
          },
          "metadata": {},
          "execution_count": 5
        }
      ]
    },
    {
      "cell_type": "markdown",
      "source": [
        "5. Write code to replace the word apple with orange in the string \"I like apple\""
      ],
      "metadata": {
        "id": "wxyRv8Zl_5AZ"
      }
    },
    {
      "cell_type": "code",
      "source": [
        "str = \"I like Apple\"\n",
        "str.replace(\"Apple\",\"Orange\")"
      ],
      "metadata": {
        "colab": {
          "base_uri": "https://localhost:8080/",
          "height": 35
        },
        "id": "rqfB0Q1z_4ch",
        "outputId": "cedea17f-67fd-426b-8961-eaa244cb5ea5"
      },
      "execution_count": null,
      "outputs": [
        {
          "output_type": "execute_result",
          "data": {
            "text/plain": [
              "'I like Orange'"
            ],
            "application/vnd.google.colaboratory.intrinsic+json": {
              "type": "string"
            }
          },
          "metadata": {},
          "execution_count": 7
        }
      ]
    },
    {
      "cell_type": "markdown",
      "source": [
        "6. Write a code to create a list with number 1 to 5 and print it"
      ],
      "metadata": {
        "id": "LJd3G_nsAvOr"
      }
    },
    {
      "cell_type": "code",
      "source": [
        "my_list=[1, 2, 3, 4, 5]\n",
        "my_list"
      ],
      "metadata": {
        "colab": {
          "base_uri": "https://localhost:8080/"
        },
        "id": "h3uEonfvA-1i",
        "outputId": "d847bbd2-58e4-46c1-b526-cb6dc87e86bb"
      },
      "execution_count": null,
      "outputs": [
        {
          "output_type": "execute_result",
          "data": {
            "text/plain": [
              "[1, 2, 3, 4, 5]"
            ]
          },
          "metadata": {},
          "execution_count": 9
        }
      ]
    },
    {
      "cell_type": "markdown",
      "source": [
        "7. write a code to append the number 10 to the list [1,2,3,4]"
      ],
      "metadata": {
        "id": "ehBHElt5BRoq"
      }
    },
    {
      "cell_type": "code",
      "source": [
        "list = [1,2,3,4]\n",
        "list.append(10)\n",
        "list"
      ],
      "metadata": {
        "colab": {
          "base_uri": "https://localhost:8080/"
        },
        "id": "LNhzMfxiBvF7",
        "outputId": "bfe43013-5d1a-484e-9157-b0939da2a346"
      },
      "execution_count": null,
      "outputs": [
        {
          "output_type": "execute_result",
          "data": {
            "text/plain": [
              "[1, 2, 3, 4, 10]"
            ]
          },
          "metadata": {},
          "execution_count": 10
        }
      ]
    },
    {
      "cell_type": "markdown",
      "source": [
        "8. Write a code to remove the umber 3 from the lsit[1,2,3,4,5]"
      ],
      "metadata": {
        "id": "b4Bk5ljpB2H8"
      }
    },
    {
      "cell_type": "code",
      "source": [
        "list =[1,2,3,4,5]\n",
        "list.remove(3)\n",
        "list"
      ],
      "metadata": {
        "colab": {
          "base_uri": "https://localhost:8080/"
        },
        "id": "F6vivIyRCBTa",
        "outputId": "3452f43f-802e-4778-bab6-8dcafb453fab"
      },
      "execution_count": null,
      "outputs": [
        {
          "output_type": "execute_result",
          "data": {
            "text/plain": [
              "[1, 2, 4, 5]"
            ]
          },
          "metadata": {},
          "execution_count": 11
        }
      ]
    },
    {
      "cell_type": "markdown",
      "source": [
        "9. Write a code toacess the secound element inthe list ['a','b','c','d']"
      ],
      "metadata": {
        "id": "C0As1GSdCF8r"
      }
    },
    {
      "cell_type": "code",
      "source": [
        "my_list = ['a','b','c','d']\n",
        "my_list[1]"
      ],
      "metadata": {
        "colab": {
          "base_uri": "https://localhost:8080/",
          "height": 35
        },
        "id": "kJp45P9hB1Xi",
        "outputId": "3d9c1d17-d68b-423c-90b7-bb52d224a8ee"
      },
      "execution_count": null,
      "outputs": [
        {
          "output_type": "execute_result",
          "data": {
            "text/plain": [
              "'b'"
            ],
            "application/vnd.google.colaboratory.intrinsic+json": {
              "type": "string"
            }
          },
          "metadata": {},
          "execution_count": 14
        }
      ]
    },
    {
      "cell_type": "markdown",
      "source": [
        "10. Write a code to reverse the list [10,20,30,40,50]"
      ],
      "metadata": {
        "id": "KNi-X1kQCvfy"
      }
    },
    {
      "cell_type": "code",
      "source": [
        "list = [10,20,30,40,50]\n",
        "list.reverse()\n",
        "print(list)"
      ],
      "metadata": {
        "colab": {
          "base_uri": "https://localhost:8080/"
        },
        "id": "588GAU_gC6Hj",
        "outputId": "bad435e5-b770-4217-da36-fbad73665ae1"
      },
      "execution_count": null,
      "outputs": [
        {
          "output_type": "stream",
          "name": "stdout",
          "text": [
            "[50, 40, 30, 20, 10]\n"
          ]
        }
      ]
    },
    {
      "cell_type": "markdown",
      "source": [
        "11. Write a code to create a tupple with the element 100,200,300"
      ],
      "metadata": {
        "id": "61fwYqQSDZfJ"
      }
    },
    {
      "cell_type": "code",
      "source": [
        "tupple = (100, 200, 300)\n",
        "print(tupple)"
      ],
      "metadata": {
        "colab": {
          "base_uri": "https://localhost:8080/"
        },
        "id": "AzqWYcgiDlFy",
        "outputId": "136003c0-c9e3-4d44-e9b6-09f070c41c51"
      },
      "execution_count": null,
      "outputs": [
        {
          "output_type": "stream",
          "name": "stdout",
          "text": [
            "(100, 200, 300)\n"
          ]
        }
      ]
    },
    {
      "cell_type": "markdown",
      "source": [
        "12. Write a code to acess the second to last element of the tuple('red', 'green', 'blue', 'yellow')"
      ],
      "metadata": {
        "id": "7BJWsdNmDtyK"
      }
    },
    {
      "cell_type": "code",
      "source": [
        "tupple = ('red', 'green', 'blue', 'yellow')\n",
        "tupple[-2]"
      ],
      "metadata": {
        "colab": {
          "base_uri": "https://localhost:8080/",
          "height": 35
        },
        "id": "jwRXeP5YD_QK",
        "outputId": "e8041713-7be5-4aac-a6e1-543c80d00fc8"
      },
      "execution_count": null,
      "outputs": [
        {
          "output_type": "execute_result",
          "data": {
            "text/plain": [
              "'blue'"
            ],
            "application/vnd.google.colaboratory.intrinsic+json": {
              "type": "string"
            }
          },
          "metadata": {},
          "execution_count": 20
        }
      ]
    },
    {
      "cell_type": "markdown",
      "source": [
        "13. Write a code to find the minimum number in the tuple (10,20,5,15)"
      ],
      "metadata": {
        "id": "DDt4yEvuEEn1"
      }
    },
    {
      "cell_type": "code",
      "source": [
        "tuple =(10,20,5,15)\n",
        "min(tuple)"
      ],
      "metadata": {
        "colab": {
          "base_uri": "https://localhost:8080/"
        },
        "id": "6hMvV9tMETF5",
        "outputId": "d0ed0da2-f524-47d5-d3b4-738e442af771"
      },
      "execution_count": null,
      "outputs": [
        {
          "output_type": "execute_result",
          "data": {
            "text/plain": [
              "5"
            ]
          },
          "metadata": {},
          "execution_count": 21
        }
      ]
    },
    {
      "cell_type": "markdown",
      "source": [
        "14. Write a code to find the index of the element \"cat\" in the tuple (\"dog\",\"cat\",\"rabbit\")"
      ],
      "metadata": {
        "id": "QDeKjW_UEYRz"
      }
    },
    {
      "cell_type": "code",
      "source": [
        "tupple = (\"dog\",\"cat\",\"rabbit\")\n",
        "tupple.index(\"cat\")"
      ],
      "metadata": {
        "colab": {
          "base_uri": "https://localhost:8080/"
        },
        "id": "b69Ggw14EsyS",
        "outputId": "e81aa17d-2a36-4fbf-b722-4092db00feb5"
      },
      "execution_count": null,
      "outputs": [
        {
          "output_type": "execute_result",
          "data": {
            "text/plain": [
              "1"
            ]
          },
          "metadata": {},
          "execution_count": 22
        }
      ]
    },
    {
      "cell_type": "markdown",
      "source": [
        "15. Write a code to create a tuple containing therr different fruits and check if \"kiwi\" in it"
      ],
      "metadata": {
        "id": "NfaKNr9iEsSz"
      }
    },
    {
      "cell_type": "code",
      "source": [
        "tuple = (\"apple\",\"banana\",\"kiwi\")\n",
        "\"kiwi\" in tuple"
      ],
      "metadata": {
        "colab": {
          "base_uri": "https://localhost:8080/"
        },
        "id": "FNODDkkXFGBS",
        "outputId": "59dc7211-f93b-4fb2-d361-44ec0d0d4798"
      },
      "execution_count": null,
      "outputs": [
        {
          "output_type": "execute_result",
          "data": {
            "text/plain": [
              "True"
            ]
          },
          "metadata": {},
          "execution_count": 23
        }
      ]
    },
    {
      "cell_type": "markdown",
      "source": [
        "16. Write a code tocreate a set with the element \"a\",\"b\",\"c\" and print it"
      ],
      "metadata": {
        "id": "xtaNZExEFNBD"
      }
    },
    {
      "cell_type": "code",
      "source": [
        "set = {\"a\",\"b\",\"c\"}\n",
        "print(set)"
      ],
      "metadata": {
        "colab": {
          "base_uri": "https://localhost:8080/"
        },
        "id": "KQnlfit1FhSD",
        "outputId": "7376b084-f9bc-497c-c169-03be0222ec91"
      },
      "execution_count": null,
      "outputs": [
        {
          "output_type": "stream",
          "name": "stdout",
          "text": [
            "{'c', 'b', 'a'}\n"
          ]
        }
      ]
    },
    {
      "cell_type": "markdown",
      "source": [
        "17. Write a code clear all the element of the set{1,2,3,4,5}"
      ],
      "metadata": {
        "id": "gR0_PEHzFmoM"
      }
    },
    {
      "cell_type": "code",
      "source": [
        "set = {1,2,3,4,5}\n",
        "set.clear()\n",
        "print(set)"
      ],
      "metadata": {
        "colab": {
          "base_uri": "https://localhost:8080/"
        },
        "id": "wHp1rVhTFxr8",
        "outputId": "e14631f1-88f8-467e-8b19-31b5de1fff96"
      },
      "execution_count": null,
      "outputs": [
        {
          "output_type": "stream",
          "name": "stdout",
          "text": [
            "set()\n"
          ]
        }
      ]
    },
    {
      "cell_type": "markdown",
      "source": [
        "18. Write a code to remove the element 4 from the set {1,2,3,4}"
      ],
      "metadata": {
        "id": "KA7fFAk4Fc3T"
      }
    },
    {
      "cell_type": "code",
      "source": [
        "set = {1,2,3,4}\n",
        "set.remove(4)\n",
        "print(set)"
      ],
      "metadata": {
        "colab": {
          "base_uri": "https://localhost:8080/"
        },
        "id": "8i88Rg5JGF9_",
        "outputId": "92eeedb7-982d-444e-dc6e-61a8586ab1cc"
      },
      "execution_count": null,
      "outputs": [
        {
          "output_type": "stream",
          "name": "stdout",
          "text": [
            "{1, 2, 3}\n"
          ]
        }
      ]
    },
    {
      "cell_type": "markdown",
      "source": [
        "19. write a code to find the union of two sets {1,2,3} and {3,4,5}."
      ],
      "metadata": {
        "id": "fcDpxDj0GJ7p"
      }
    },
    {
      "cell_type": "code",
      "source": [
        "set1 = {1,2,3}\n",
        "set2 = {3,4,5}\n",
        "set1.union(set2)"
      ],
      "metadata": {
        "colab": {
          "base_uri": "https://localhost:8080/"
        },
        "id": "lzyxjg8SGJNS",
        "outputId": "ee047f18-f7f9-4a69-a499-a9697c836bd4"
      },
      "execution_count": null,
      "outputs": [
        {
          "output_type": "execute_result",
          "data": {
            "text/plain": [
              "{1, 2, 3, 4, 5}"
            ]
          },
          "metadata": {},
          "execution_count": 30
        }
      ]
    },
    {
      "cell_type": "markdown",
      "source": [
        "20. Write a  code to find intersection of two set{1,2,3} and {2,3,4}"
      ],
      "metadata": {
        "id": "-TK5S_D4H7nS"
      }
    },
    {
      "cell_type": "code",
      "source": [
        "set1 = {1,2,3}\n",
        "set2 = {2,3,4}\n",
        "set1.intersection(set2)"
      ],
      "metadata": {
        "colab": {
          "base_uri": "https://localhost:8080/"
        },
        "id": "unpMvMy1INWb",
        "outputId": "dc726765-3ae3-45bc-bd69-40789d37ec45"
      },
      "execution_count": null,
      "outputs": [
        {
          "output_type": "execute_result",
          "data": {
            "text/plain": [
              "{2, 3}"
            ]
          },
          "metadata": {},
          "execution_count": 32
        }
      ]
    },
    {
      "cell_type": "markdown",
      "source": [
        " 21. Write a code to create a dictonary with keys \"name\" ,\"age\" and \"city\" and print it"
      ],
      "metadata": {
        "id": "B6_Mp8LXG9uT"
      }
    },
    {
      "cell_type": "code",
      "source": [
        "dict = {\"Name\": \"Mohd Yamaan Rafe\", \"Age\": 23, \"City\": \"Prayagraj\"}\n",
        "print(dict)"
      ],
      "metadata": {
        "colab": {
          "base_uri": "https://localhost:8080/"
        },
        "id": "j7yfd7myHWX1",
        "outputId": "efea0d0d-2560-4ed5-8902-e98759831b41"
      },
      "execution_count": null,
      "outputs": [
        {
          "output_type": "stream",
          "name": "stdout",
          "text": [
            "{'Name': 'Mohd Yamaan Rafe', 'Age': 23, 'City': 'Prayagraj'}\n"
          ]
        }
      ]
    },
    {
      "cell_type": "markdown",
      "source": [
        "22. Write a code to add a new ey_value pair \"country\" \"usa\" to the ditonary {\"name\":\"Jhon\", \"city\":\"New York\""
      ],
      "metadata": {
        "id": "de1e74DMHwdd"
      }
    },
    {
      "cell_type": "code",
      "source": [
        "dict = {\"name\":\"Jhon\", \"city\":\"New York\"}\n",
        "dict[\"country\"] = \"usa\"\n",
        "print(dict)"
      ],
      "metadata": {
        "colab": {
          "base_uri": "https://localhost:8080/"
        },
        "id": "IVK38PxyJJTD",
        "outputId": "f67c4459-bd09-4364-c358-f94b1117a258"
      },
      "execution_count": null,
      "outputs": [
        {
          "output_type": "stream",
          "name": "stdout",
          "text": [
            "{'name': 'Jhon', 'city': 'New York', 'country': 'usa'}\n"
          ]
        }
      ]
    },
    {
      "cell_type": "markdown",
      "source": [
        "23. write a code acess the value associate with the key \"name\" in the dictonary {\"name\": \"Alice\",\"Age\": 30"
      ],
      "metadata": {
        "id": "2eg8x2CaJ7Pj"
      }
    },
    {
      "cell_type": "code",
      "source": [
        "dict = {\"name\": \"Alice\",\"Age\": 30}\n",
        "dict[\"name\"]"
      ],
      "metadata": {
        "colab": {
          "base_uri": "https://localhost:8080/",
          "height": 35
        },
        "id": "23d04umdKYXj",
        "outputId": "61043dd8-fadd-407b-97a9-feb9394a71d8"
      },
      "execution_count": null,
      "outputs": [
        {
          "output_type": "execute_result",
          "data": {
            "text/plain": [
              "'Alice'"
            ],
            "application/vnd.google.colaboratory.intrinsic+json": {
              "type": "string"
            }
          },
          "metadata": {},
          "execution_count": 35
        }
      ]
    },
    {
      "cell_type": "markdown",
      "source": [
        "24. writ a code to remove the key \"age\" from he dictonary {'name':'Bob', 'age': 22, 'city':'Paris'"
      ],
      "metadata": {
        "id": "-0G8DBq3JNvF"
      }
    },
    {
      "cell_type": "code",
      "source": [
        "dict = {'name':'Bob', 'age': 22, 'city':'Paris'}\n",
        "del dict['age']\n",
        "print(dict)"
      ],
      "metadata": {
        "colab": {
          "base_uri": "https://localhost:8080/"
        },
        "id": "l8QAxiP4Jm4r",
        "outputId": "531a7af2-7fa6-4155-e59f-335035da0406"
      },
      "execution_count": null,
      "outputs": [
        {
          "output_type": "stream",
          "name": "stdout",
          "text": [
            "{'name': 'Bob', 'city': 'Paris'}\n"
          ]
        }
      ]
    },
    {
      "cell_type": "markdown",
      "source": [
        "25. Write a code to check if the key \"city exist inthe dictonary {'name':'Alice', 'city': 'Paris'}"
      ],
      "metadata": {
        "id": "joqs43OVJrP8"
      }
    },
    {
      "cell_type": "code",
      "source": [
        "dict = {'name':'Alice', 'city': 'Paris'}\n",
        "\"city\" in dict\n"
      ],
      "metadata": {
        "colab": {
          "base_uri": "https://localhost:8080/"
        },
        "id": "6tvXL0a_KyDt",
        "outputId": "0b3de6f5-fce8-43a6-eda3-4086472cec15"
      },
      "execution_count": null,
      "outputs": [
        {
          "output_type": "execute_result",
          "data": {
            "text/plain": [
              "True"
            ]
          },
          "metadata": {},
          "execution_count": 37
        }
      ]
    },
    {
      "cell_type": "markdown",
      "source": [
        "26. write a code to create a list a tupple and dictionary {'name':'Alice', 'city': 'Paris'"
      ],
      "metadata": {
        "id": "Oke6tOtxK3qz"
      }
    },
    {
      "cell_type": "code",
      "source": [
        "list ="
      ],
      "metadata": {
        "id": "jSItKxiTLk8r"
      },
      "execution_count": null,
      "outputs": []
    },
    {
      "cell_type": "markdown",
      "source": [
        "27. Write a code to crate a list of 5 random number between 1 and 100, short it in ascending order, and print the result(replace)"
      ],
      "metadata": {
        "id": "kypbtIqDLt7c"
      }
    },
    {
      "cell_type": "code",
      "source": [
        "list = [46,34,77,88,21]\n",
        "list.sort()\n",
        "print(list)"
      ],
      "metadata": {
        "colab": {
          "base_uri": "https://localhost:8080/"
        },
        "id": "V1LaOh1pMG3z",
        "outputId": "308adbd3-3dc2-4a63-f837-cedd2dcbfca0"
      },
      "execution_count": null,
      "outputs": [
        {
          "output_type": "stream",
          "name": "stdout",
          "text": [
            "[21, 34, 46, 77, 88]\n"
          ]
        }
      ]
    },
    {
      "cell_type": "markdown",
      "source": [
        "28. Write a code to create a list with string and print the element at the third index."
      ],
      "metadata": {
        "id": "BrIPHjMiMf7T"
      }
    },
    {
      "cell_type": "code",
      "source": [
        "list = [\"apple\", \"Banana\", \"Mango\", \"Kiwi\", \"Lichi\"]\n",
        "list[3]"
      ],
      "metadata": {
        "colab": {
          "base_uri": "https://localhost:8080/",
          "height": 35
        },
        "id": "-QFFvMQdMrbs",
        "outputId": "cd00d7e6-8488-415d-f03b-6fecb9c6e712"
      },
      "execution_count": null,
      "outputs": [
        {
          "output_type": "execute_result",
          "data": {
            "text/plain": [
              "'Kiwi'"
            ],
            "application/vnd.google.colaboratory.intrinsic+json": {
              "type": "string"
            }
          },
          "metadata": {},
          "execution_count": 41
        }
      ]
    },
    {
      "cell_type": "markdown",
      "source": [
        "29. Write a code to combine two dictonaried into one and print the result"
      ],
      "metadata": {
        "id": "OU0oGSLNNA88"
      }
    },
    {
      "cell_type": "code",
      "source": [
        "dict = {'name':'Alice', 'city': 'Prayagraj'}\n",
        "dict1 = {'State':'Uttar Pradesh', 'Contry': 'India'}\n",
        "dict.update(dict1)\n",
        "print(dict)\n"
      ],
      "metadata": {
        "colab": {
          "base_uri": "https://localhost:8080/"
        },
        "id": "w879vzOqOA7_",
        "outputId": "44939dfc-d7ba-400c-fa31-006982c99429"
      },
      "execution_count": null,
      "outputs": [
        {
          "output_type": "stream",
          "name": "stdout",
          "text": [
            "{'name': 'Alice', 'city': 'Prayagraj', 'State': 'Uttar Pradesh', 'Contry': 'India'}\n"
          ]
        }
      ]
    },
    {
      "cell_type": "markdown",
      "source": [
        "30. write a code to convert a list of string in to a set."
      ],
      "metadata": {
        "id": "YKW3ob_nObwN"
      }
    },
    {
      "cell_type": "code",
      "source": [
        "my_list = [\"apple\", \"banana\", \"apple\", \"orange\", \"banana\"]\n",
        "my_set = set(my_list)\n",
        "print(my_set)"
      ],
      "metadata": {
        "id": "JO8aqmYtQlMk"
      },
      "execution_count": null,
      "outputs": []
    },
    {
      "cell_type": "markdown",
      "source": [],
      "metadata": {
        "id": "k_YPrCeL88Tz"
      }
    }
  ]
}